{
  "nbformat": 4,
  "nbformat_minor": 0,
  "metadata": {
    "colab": {
      "name": "Yogaday.ipynb",
      "version": "0.3.2",
      "provenance": [],
      "collapsed_sections": []
    },
    "kernelspec": {
      "name": "python3",
      "display_name": "Python 3"
    }
  },
  "cells": [
    {
      "cell_type": "code",
      "metadata": {
        "id": "9H9d6kL0dAYw",
        "colab_type": "code",
        "outputId": "d0485076-627c-45f6-e25d-8a2834970326",
        "colab": {
          "base_uri": "https://localhost:8080/",
          "height": 34
        }
      },
      "source": [
        "from google.colab import drive\n",
        "drive.mount('/content/drive')"
      ],
      "execution_count": 1,
      "outputs": [
        {
          "output_type": "stream",
          "text": [
            "Drive already mounted at /content/drive; to attempt to forcibly remount, call drive.mount(\"/content/drive\", force_remount=True).\n"
          ],
          "name": "stdout"
        }
      ]
    },
    {
      "cell_type": "markdown",
      "metadata": {
        "id": "0dBWGsKc-Ooz",
        "colab_type": "text"
      },
      "source": [
        "# Reading File From Google Drive"
      ]
    },
    {
      "cell_type": "code",
      "metadata": {
        "id": "MTXqzXjKdvQr",
        "colab_type": "code",
        "colab": {}
      },
      "source": [
        "path = \"/content/drive/My Drive/Colab Notebooks/yogaday/yoga2.xlsx\"\n"
      ],
      "execution_count": 0,
      "outputs": []
    },
    {
      "cell_type": "code",
      "metadata": {
        "id": "V5J0M94Jd7l5",
        "colab_type": "code",
        "colab": {}
      },
      "source": [
        "import pandas as pd\n",
        "\n",
        "import numpy as np\n",
        "\n",
        "from sklearn.neural_network import MLPClassifier\n",
        "from sklearn.metrics import accuracy_score\n",
        "from sklearn.metrics import confusion_matrix\n",
        "df = pd.read_excel(path)\n",
        "\n"
      ],
      "execution_count": 0,
      "outputs": []
    },
    {
      "cell_type": "code",
      "metadata": {
        "id": "IsCNj3Tdd9u0",
        "colab_type": "code",
        "colab": {}
      },
      "source": [
        ""
      ],
      "execution_count": 0,
      "outputs": []
    },
    {
      "cell_type": "code",
      "metadata": {
        "id": "jv7oOKNpeMn4",
        "colab_type": "code",
        "outputId": "72118fe5-a325-4510-f298-e9f76d9d6968",
        "colab": {
          "base_uri": "https://localhost:8080/",
          "height": 195
        }
      },
      "source": [
        "df.head()"
      ],
      "execution_count": 4,
      "outputs": [
        {
          "output_type": "execute_result",
          "data": {
            "text/html": [
              "<div>\n",
              "<style scoped>\n",
              "    .dataframe tbody tr th:only-of-type {\n",
              "        vertical-align: middle;\n",
              "    }\n",
              "\n",
              "    .dataframe tbody tr th {\n",
              "        vertical-align: top;\n",
              "    }\n",
              "\n",
              "    .dataframe thead th {\n",
              "        text-align: right;\n",
              "    }\n",
              "</style>\n",
              "<table border=\"1\" class=\"dataframe\">\n",
              "  <thead>\n",
              "    <tr style=\"text-align: right;\">\n",
              "      <th></th>\n",
              "      <th>Text</th>\n",
              "      <th>Polarity</th>\n",
              "    </tr>\n",
              "  </thead>\n",
              "  <tbody>\n",
              "    <tr>\n",
              "      <th>0</th>\n",
              "      <td>Embassy of India in Algeria celebrates 5th Int...</td>\n",
              "      <td>positive</td>\n",
              "    </tr>\n",
              "    <tr>\n",
              "      <th>1</th>\n",
              "      <td>Union Home Minister Shri AmitShah will attend ...</td>\n",
              "      <td>neutral</td>\n",
              "    </tr>\n",
              "    <tr>\n",
              "      <th>2</th>\n",
              "      <td>International Yoga Day should also be a celebr...</td>\n",
              "      <td>positive</td>\n",
              "    </tr>\n",
              "    <tr>\n",
              "      <th>3</th>\n",
              "      <td>CollaberaGDC\\n“Yoga is a light, which once lit...</td>\n",
              "      <td>positive</td>\n",
              "    </tr>\n",
              "    <tr>\n",
              "      <th>4</th>\n",
              "      <td>International Day of Yoga event set for Woodlands</td>\n",
              "      <td>neutral</td>\n",
              "    </tr>\n",
              "  </tbody>\n",
              "</table>\n",
              "</div>"
            ],
            "text/plain": [
              "                                                Text  Polarity\n",
              "0  Embassy of India in Algeria celebrates 5th Int...  positive\n",
              "1  Union Home Minister Shri AmitShah will attend ...   neutral\n",
              "2  International Yoga Day should also be a celebr...  positive\n",
              "3  CollaberaGDC\\n“Yoga is a light, which once lit...  positive\n",
              "4  International Day of Yoga event set for Woodlands   neutral"
            ]
          },
          "metadata": {
            "tags": []
          },
          "execution_count": 4
        }
      ]
    },
    {
      "cell_type": "code",
      "metadata": {
        "id": "yflXamcEesnR",
        "colab_type": "code",
        "colab": {}
      },
      "source": [
        ""
      ],
      "execution_count": 0,
      "outputs": []
    },
    {
      "cell_type": "code",
      "metadata": {
        "id": "MdkwnHsqePZy",
        "colab_type": "code",
        "colab": {}
      },
      "source": [
        "from sklearn.preprocessing import LabelEncoder\n",
        "encoder = LabelEncoder()\n",
        "df['Polarity_'] = encoder.fit_transform(df.Polarity)"
      ],
      "execution_count": 0,
      "outputs": []
    },
    {
      "cell_type": "code",
      "metadata": {
        "id": "vR86fZFkfZDL",
        "colab_type": "code",
        "outputId": "362be40e-b1f9-4c96-a3c1-ab0e7577d443",
        "colab": {
          "base_uri": "https://localhost:8080/",
          "height": 195
        }
      },
      "source": [
        "df.head()"
      ],
      "execution_count": 70,
      "outputs": [
        {
          "output_type": "execute_result",
          "data": {
            "text/html": [
              "<div>\n",
              "<style scoped>\n",
              "    .dataframe tbody tr th:only-of-type {\n",
              "        vertical-align: middle;\n",
              "    }\n",
              "\n",
              "    .dataframe tbody tr th {\n",
              "        vertical-align: top;\n",
              "    }\n",
              "\n",
              "    .dataframe thead th {\n",
              "        text-align: right;\n",
              "    }\n",
              "</style>\n",
              "<table border=\"1\" class=\"dataframe\">\n",
              "  <thead>\n",
              "    <tr style=\"text-align: right;\">\n",
              "      <th></th>\n",
              "      <th>Text</th>\n",
              "      <th>Polarity</th>\n",
              "      <th>Polarity_</th>\n",
              "    </tr>\n",
              "  </thead>\n",
              "  <tbody>\n",
              "    <tr>\n",
              "      <th>0</th>\n",
              "      <td>Embassy of India in Algeria celebrates 5th Int...</td>\n",
              "      <td>positive</td>\n",
              "      <td>2</td>\n",
              "    </tr>\n",
              "    <tr>\n",
              "      <th>1</th>\n",
              "      <td>Union Home Minister Shri AmitShah will attend ...</td>\n",
              "      <td>neutral</td>\n",
              "      <td>1</td>\n",
              "    </tr>\n",
              "    <tr>\n",
              "      <th>2</th>\n",
              "      <td>International Yoga Day should also be a celebr...</td>\n",
              "      <td>positive</td>\n",
              "      <td>2</td>\n",
              "    </tr>\n",
              "    <tr>\n",
              "      <th>3</th>\n",
              "      <td>CollaberaGDC\\n“Yoga is a light, which once lit...</td>\n",
              "      <td>positive</td>\n",
              "      <td>2</td>\n",
              "    </tr>\n",
              "    <tr>\n",
              "      <th>4</th>\n",
              "      <td>International Day of Yoga event set for Woodlands</td>\n",
              "      <td>neutral</td>\n",
              "      <td>1</td>\n",
              "    </tr>\n",
              "  </tbody>\n",
              "</table>\n",
              "</div>"
            ],
            "text/plain": [
              "                                                Text  Polarity  Polarity_\n",
              "0  Embassy of India in Algeria celebrates 5th Int...  positive          2\n",
              "1  Union Home Minister Shri AmitShah will attend ...   neutral          1\n",
              "2  International Yoga Day should also be a celebr...  positive          2\n",
              "3  CollaberaGDC\\n“Yoga is a light, which once lit...  positive          2\n",
              "4  International Day of Yoga event set for Woodlands   neutral          1"
            ]
          },
          "metadata": {
            "tags": []
          },
          "execution_count": 70
        }
      ]
    },
    {
      "cell_type": "code",
      "metadata": {
        "id": "33DmV5fXMxxz",
        "colab_type": "code",
        "colab": {
          "base_uri": "https://localhost:8080/",
          "height": 1000
        },
        "outputId": "f00b05ad-d63a-4b81-961f-2c6c1e9f835e"
      },
      "source": [
        "#check and remove duplicate tweets\n",
        "df.Text.value_counts()\n",
        "df = df.drop_duplicates(subset='Text', keep='first')\n",
        "df.Text.value_counts()"
      ],
      "execution_count": 72,
      "outputs": [
        {
          "output_type": "execute_result",
          "data": {
            "text/plain": [
              " SSPanchakarma: Dear Delhi, don't miss 3 days of Special Ayurveda Therapies to celebrate International Day of Yoga. Yoga, an invalua…                                                                                                                                                                       1\n",
              "I joined Instagram to follow amandapalmer and I'm overwhelmed. (Also therapist said to find yoga stuff there in session today, soooo....)                                                                                                                                                                   1\n",
              "Knowing summer vacation is so close, evening walks with the hubby & pups and yoga. NX9UJUv67R                                                                                                                                                                                                               1\n",
              "International Day Of Yoga 2019...\\n\\nyoga internationalyoga InternationalDayOfYoga2019 sQxVCetCkO                                                                                                                                                                                                           1\n",
              "Fun stuff happening InkBlockBoston. Sunday live music and Castle Island brews at the AC Hotel patio from 12-4. Next week UndergroundINK_ 2019 Mural Project events all week!  Free Core Power Yoga Wednesdays 6-7 all summer at Underground!cibrewing YHAuUpZmMj                                            1\n",
              " nueahangel: Who wants to be my wife so we can teach our little kids yoga ?? kY65ZJYLGc                                                                                                                                                                                                                     1\n",
              "TRACEE ROSS WORKOUT CAKES IN SOME... DISCO YOGA PA--IUNNO WHAT KINDA PANTS THEY ARE BUT THE CAKES ON DISPLAY ON INSTAGRAM                                                                                                                                                                                   1\n",
              "So there’s a free “trap yoga & food trucks” this Saturday evening on Mt Vernon T1a4owamz9                                                                                                                                                                                                                   1\n",
              "International Yoga Day on June 21, celebrities who practice yoga daily  read more: qHT3O1wKJX mnOa9qGr1J                                                                                                                                                                                                    1\n",
              " IshaEmedia: Of the many offerings that Mother India has made to the world, Yoga is one of its proudest\\nofferings. -Sg YogaTools DoYou…                                                                                                                                                                    1\n",
              "BarbieriAmalia We're blushing Amalia. Happy International day of Yoga for tomorrow.                                                                                                                                                                                                                         1\n",
              "Our word “sacrifice” comes from the same root as sacred, and sacrifice has to do with making something holy. - Ram Dass\\n\\nThe Act of Sacrifice - DulhNKACi8\\n\\nRamDass Love Compassion Yoga Mindfulness Meditation  Devotion Sacrifice Spirituality 4QIbaxdI6c                                             1\n",
              "As in the past, celebrate International Yoga Day with trust_deepanjan along with Vijaydev ji Chief Secretary Delhi ManojTiwariMP rashmisinghIAS AmbHanoi in association with ???? and gauravgupta40 LionsGroup Delhi. Say yes to Yoga & Stay fit.  JaiHind.\\nmoayush HDN6eklsm4                             1\n",
              " CityBrampton: Get out and get active, Brampton! Friday, June 21 is International Yoga Day and we're celebrating with outdoor yoga at Mo…                                                                                                                                                                   1\n",
              " ChinaDaily: The 5th Wuxi International Yoga Festival is on from June 14 to 17 in Wuxi's Nianhuawan scenic spot. The 4-day event include…                                                                                                                                                                   1\n",
              " mrgautamverma: For ultimate health, ph level of body should be 7. Eat 80% alkaline, exercise, sleep, meditate,laugh. exercise gym fi…                                                                                                                                                                      1\n",
              "International Yoga Day 2019: Yoga postures that enable a good night’s sleep cj91XqMiV1 G7GQp8gDz7                                                                                                                                                                                                           1\n",
              " Journal_UN_ONU: Event: \"Yoga with the Gurus\"\\nDate: This Thursday\\nTime: 17:30\\nVenue: UN Noh Lawn\\nInterested? Come and join us!\\nWe w…                                                                                                                                                                   1\n",
              "This was 6 years ago in a yoga training. I really don’t like inversions but my friend jsd242 helped me out and was able to get in a headstand. 6 years later I got into headstand without assistance. No picture. It… CSr02XeXWm                                                                            1\n",
              " souindia: Align your body, soul & mind at the StatueofUnity with 1000 Yogis, this International Yoga Day. PMOIndia CMOGuj drrajivgu…                                                                                                                                                                       1\n",
              " Bailey___Ann: Once lil mans can hold his head and sit up unsuppoed WE GETTTIIIN IT w some mommy and baby yoga ?? dlzZxQ6W…                                                                                                                                                                                 1\n",
              "International Yoga day-\\nSri Sri Yoga Yogathon : Sun Never Sets on Yoga\\nFriday, June 21, 2019 from 10:00 AM to 11:30 AM for the celebration of International Yoga day invited by… TL7vhebI0z                                                                                                               1\n",
              "International Day of Yoga 2019.\\nFREE YOGA CAMP ! \\n17th-21st June 2019 from 7am-8am at Kaivalyadhama, Lonavala.\\nCome One, Come All !\\nYoga Yogaforlife Innerpeace Fitness Yogaday2019 moayush PMOIndia 4Nltqv61O0                                                                                         1\n",
              "Plant a placenta tree that will grow together with your baby!\\nJ2hpRCkyJa \\n\\nBaby Mum MumsToBe Dad Nurse Midwife Doula Antenatal Yoga PregnancyMassage Pregnancy Pregnant Prenatal Bih BabyShower Grow Cool Gift New Idea Garden PlantPot Plant 7GC4ugbGSK                                                 1\n",
              "SUMMMER ROOFTOP YOGA + CHILL\\nSATURDAY JUNE 29TH  6:30 - 9PM\\nWITH RACHEL & SHAWNDA\\nAT MADISON25 APAMENTS\\n\\nVINYASA FLOW + YIN CHILL-OUT + GOOD TUNES+ ROOFTOP VIEWS + SNACKS + GAMES + GOOD VIBES\\n\\nWHAT TO EXPECT\\nTo… 9IBJXpLIvV                                                                      1\n",
              "Brahma Kumaris delhi cordialy invite you to celebrate international day of yoga at Red Fo ground in the grecious presence of vice President of India sri M Venkaiah Naidu and hon'ble Union minister of road transpo sri Nitin Gadkari ji between 7am to 8am on 21 june 2019.IDY19k 7SyMTohJwg              1\n",
              " indemtel: Streets signs in TelAviv inviting all to the celebrations of the International Day of Yoga at the iconic Tachana on 20 June…                                                                                                                                                                     1\n",
              "TomFitton SebGorka Wait, she deleted sensitive emails? I thought the only things she deleted were about yoga!?                                                                                                                                                                                              1\n",
              " SanDiegoCounty: Meet Grimm! He loves playing with toys, yoga and cuddles! Adopt him ?? from the San Diego County Depament of Animal Se…                                                                                                                                                                    1\n",
              "ishafoundation SadhguruJV ?????????? International Day Of Yoga??                                                                                                                                                                                                                                            1\n",
              "                                                                                                                                                                                                                                                                                                           ..\n",
              "School of Santhi organises open group yoga session on International Yoga Day - The Hindu CfVgL2r6pM                                                                                                                                                                                                         1\n",
              "620 Thursday \\n6:00am - Wake Up\\n9:30am - Gentle Vinyasa 1\\n11:00am - Gentle Vinyasa 2\\n5:30pm - Vinyasa 60\\n7:00pm - Hatha 60\\n\\nNamaste ?? \\ninhale_yogallc international_day_of_yoga yogadayfriday \\n\\nFriday 621 -Summer Solstice is also the International Day of Yoga-no gentle classes F2bYEvLT8E    1\n",
              " narendramodi: Yoga goes global! Saudi Arabia's enthusiasm towards Yoga makes us extremely happy. YogaDay2019 vYbCO5y92n                                                                                                                                                                                    1\n",
              " Ishanga_Kerala: Stay tuned for FREE public Upa Yoga Sessions all over Kerala on June 21st, International Day\\nof Yoga!\\n\\nEasy to learn.…                                                                                                                                                                  1\n",
              " FinancialXpress: InternationalDayofYoga | Say goodbye to stress! An overall strengthening of the body and the mind is what makes Sury…                                                                                                                                                                     1\n",
              "IGFRI, Jhansi is also organizing International Day of Yoga in special way with all its employees and their family members. icar PMOIndia uJHN1fZ6t7                                                                                                                                                         1\n",
              "Today was our International Day & we have been learning all about Nepal. The children have moved around school & have played spos, cooking, flag making, creating awork, learning yoga positions & learning to count in Nepalese! TMETrust GlobalCitizens enthusiasm curiosity 3iwiiqeNIZ                   1\n",
              " floydimus: yoga enthusiasts don't hook up, they couple bhaati                                                                                                                                                                                                                                              1\n",
              "International Yoga Day are ahead, https:youtu.beT3Ci2VHdXzcHowIFightDepression                                                                                                                                                                                                                              1\n",
              "Yoga tip: find a quiet place away from people and the busy world to practice yoga...cause you will be faing...a lot. namastank                                                                                                                                                                              1\n",
              " SreejithSivasan: DoYouHave5Min MyYogaPractice iFeelGood IDY2019 Count down to IDY International Day of Yoga AykP3Y19gZ                                                                                                                                                                                     1\n",
              " tyi_official: Who knew waiting for a flight could make you healthier? As a pa of International Day of Yoga celebrations, The Yoga Ins…                                                                                                                                                                     1\n",
              "hi i took a yoga class for the first time in forever & they brought pup & kittens into the room so i’m practically glowing                                                                                                                                                                                  1\n",
              " ghoshyoga: Ghosh Yoga Therapeutic Exercises coming soon!\\n\\nNow through Friday (International Day of Yoga), if you join the Kickstaer a…                                                                                                                                                                   1\n",
              "Students attend a yoga lesson at a school ahead of International Yoga Day in Ahmedabad, India\\n\\nPhoto by: Amit DaveReuters\\n\\nvtnhf1qxGe SMCGdsCjbJ                                                                                                                                                        1\n",
              "International Yoga Day: Bringing The World Of Yoga Into Our Lives\\nYoga is an age-old practice that took bih in the diverse land of India. \\nMore:- lMjeP3D0DY\\n\\nyogaday india rishikesh lq9ipikQ3r                                                                                                        1\n",
              "??‍♀️ ??‍♂️ Enjoy \"International Yoga Day\" with Your Family on 21 June ??‍♂️ ??‍♀️\\n\\n⭐️Follow link below to read about yoga easing depression!⭐️\\nniXqEWwf5R\\n\\n??YouTube has many \"Easy Yoga\" videos, to try out!??\\n\\nFamilyFun Yoga YogaDay2019 YogaDay Fitness health Depression kFUUJSKwxA            1\n",
              "Heal your health and breathe with amazing Yoga science.Stay Tuned on DD Bangla on 21st June morning from 6:00 AM onwards for visually enriching International Yoga Day performances.\\nYogaDayOnDD PBkWVwAyQ5                                                                                                1\n",
              "It is the International yoga day on June 21st, 2019. This day serves as a reminder to all of us of the traditions and values that underline the ancient practice of yoga. Keep these basic tenets in mind when you are practicing yoga. Wish you joy in this path of self discovery. fOFcElVsFM             1\n",
              "DrDiwakarSingh2 Beat of luck for 5th international yoga day preparation Dear sir.                                                                                                                                                                                                                           1\n",
              " Andaman_Admin: “Swar hi Ishwar Hai” says  Pt. Subhash Ghosh a renowned classical musician presently on visit to Islands in connection t…                                                                                                                                                                   1\n",
              "GameAG\\n\\nAdamWhite81\\n\\nxbox anime cosplay cosplayers cosplayer cosplaying asians twins brides poledance gym fitness yoga reiki tantra poledancenation poledancer exoticdancers polefit yogafitness… IYf7LuMAKC                                                                                            1\n",
              "Indulge in a day of calm on International Day of Yoga with H.H Yogiraj Dr. Om Prakash Ji Maharaj as he teaches you how to balance your chakras with a fun-filled yoga & meditation session! See you at The Plaza, Select CITYWALK, 6-8 PM on the 21st of June. \\nI9OiCMA2dy B6dn4SvNfB                      1\n",
              " IndiainMyanmar: ???? India Myanmar ???? \\n|| YogaDay2019 in Yangon || \\n5th International Day of Yoga was celebrated in Yangon. AmbSaurabhK…                                                                                                                                                               1\n",
              "Woodguy55 So it’s essentially doing yoga while watching the Oilers play in the defensive zone?                                                                                                                                                                                                              1\n",
              "SandalwoodEmily You look fabulous. That’s a great dress and sweater combination. I do the same combo quite often for work. Sweaters like that work a lot of different ways. I’m on maternity leave and wearing mine with yoga pants and loose dresses.                                                      1\n",
              "narendramodi Wht is your action plan for Bihar !!!! Yoga hm khud v sikh lenge                                                                                                                                                                                                                               1\n",
              "My wife recommend this to me: nXClxYGzdm                                                                                                                                                                                                                                                                    1\n",
              "Jharkhand: Preparations are almost over at the Prabhat Tara ground of Ranchi where Prime Minister narendramodi  will perform Yoga along with 28 thousand people at  the main event of  International Yoga day.\\n\\nYogaDay2019                                                                               1\n",
              "“I realized that less can be more. In yoga, we are accustomed to creating and taking up as much openness and space as possible. Barre, however, is quite the opposite. In fact, the less space the better, especially when it comes to small, isolated actions.“\\nKhTZtpoYIW                                1\n",
              "Name: Text, Length: 2123, dtype: int64"
            ]
          },
          "metadata": {
            "tags": []
          },
          "execution_count": 72
        }
      ]
    },
    {
      "cell_type": "markdown",
      "metadata": {
        "id": "qGe1S2dNOuMs",
        "colab_type": "text"
      },
      "source": [
        ""
      ]
    },
    {
      "cell_type": "markdown",
      "metadata": {
        "id": "UWlh-aJdD35M",
        "colab_type": "text"
      },
      "source": [
        "# One Hot Encoding for target variable"
      ]
    },
    {
      "cell_type": "code",
      "metadata": {
        "id": "bx2yiYimf-n6",
        "colab_type": "code",
        "outputId": "690f6aab-7b2b-4b0e-ea78-ff326b422660",
        "colab": {
          "base_uri": "https://localhost:8080/",
          "height": 195
        }
      },
      "source": [
        "X = df.Text\n",
        "Y = df.Polarity_\n",
        "Y= pd.get_dummies(Y)\n",
        "Y.head()"
      ],
      "execution_count": 73,
      "outputs": [
        {
          "output_type": "execute_result",
          "data": {
            "text/html": [
              "<div>\n",
              "<style scoped>\n",
              "    .dataframe tbody tr th:only-of-type {\n",
              "        vertical-align: middle;\n",
              "    }\n",
              "\n",
              "    .dataframe tbody tr th {\n",
              "        vertical-align: top;\n",
              "    }\n",
              "\n",
              "    .dataframe thead th {\n",
              "        text-align: right;\n",
              "    }\n",
              "</style>\n",
              "<table border=\"1\" class=\"dataframe\">\n",
              "  <thead>\n",
              "    <tr style=\"text-align: right;\">\n",
              "      <th></th>\n",
              "      <th>0</th>\n",
              "      <th>1</th>\n",
              "      <th>2</th>\n",
              "    </tr>\n",
              "  </thead>\n",
              "  <tbody>\n",
              "    <tr>\n",
              "      <th>0</th>\n",
              "      <td>0</td>\n",
              "      <td>0</td>\n",
              "      <td>1</td>\n",
              "    </tr>\n",
              "    <tr>\n",
              "      <th>1</th>\n",
              "      <td>0</td>\n",
              "      <td>1</td>\n",
              "      <td>0</td>\n",
              "    </tr>\n",
              "    <tr>\n",
              "      <th>2</th>\n",
              "      <td>0</td>\n",
              "      <td>0</td>\n",
              "      <td>1</td>\n",
              "    </tr>\n",
              "    <tr>\n",
              "      <th>3</th>\n",
              "      <td>0</td>\n",
              "      <td>0</td>\n",
              "      <td>1</td>\n",
              "    </tr>\n",
              "    <tr>\n",
              "      <th>4</th>\n",
              "      <td>0</td>\n",
              "      <td>1</td>\n",
              "      <td>0</td>\n",
              "    </tr>\n",
              "  </tbody>\n",
              "</table>\n",
              "</div>"
            ],
            "text/plain": [
              "   0  1  2\n",
              "0  0  0  1\n",
              "1  0  1  0\n",
              "2  0  0  1\n",
              "3  0  0  1\n",
              "4  0  1  0"
            ]
          },
          "metadata": {
            "tags": []
          },
          "execution_count": 73
        }
      ]
    },
    {
      "cell_type": "code",
      "metadata": {
        "id": "6px4tPvBg7ld",
        "colab_type": "code",
        "outputId": "374778f2-ff71-4e93-fa82-26b30339e16d",
        "colab": {
          "base_uri": "https://localhost:8080/",
          "height": 185
        }
      },
      "source": [
        "import nltk\n",
        "import nltk\n",
        "from sklearn.feature_extraction import text\n",
        "from sklearn.feature_extraction.text import TfidfVectorizer\n",
        "from nltk.corpus import stopwords\n",
        "nltk.download('stopwords')\n",
        "from nltk.tokenize import RegexpTokenizer\n",
        "nltk.download('averaged_perceptron_tagger')\n",
        "nltk.download('punkt')\n",
        "nltk.download('wordnet')\n",
        "from nltk.tokenize import RegexpTokenizer\n",
        "from nltk.stem import WordNetLemmatizer\n",
        "from nltk.tokenize import sent_tokenize, word_tokenize\n",
        "\n",
        "punc = ['.', ',', '\"', \"'\", '?','??', '!', ':', ';', '(', ')', '[', ']', '{', '}',\"%\",'???']\n",
        "    \n",
        "tokenizer = RegexpTokenizer(r'[a-zA-Z\\']+')\n",
        "\n",
        "   \n",
        "  \n",
        "def tokenize(text):\n",
        "  wordlist= []\n",
        "  for word in tokenizer.tokenize(text.lower()):\n",
        "   \n",
        "    #word = stemmer.stem(word)\n",
        "    #nltk.pos_tag(word) wordnet_lemmatizer.lemmatize(word)\n",
        "    wordlist.append(word)\n",
        "  return wordlist\n",
        "\n"
      ],
      "execution_count": 74,
      "outputs": [
        {
          "output_type": "stream",
          "text": [
            "[nltk_data] Downloading package stopwords to /root/nltk_data...\n",
            "[nltk_data]   Package stopwords is already up-to-date!\n",
            "[nltk_data] Downloading package averaged_perceptron_tagger to\n",
            "[nltk_data]     /root/nltk_data...\n",
            "[nltk_data]   Package averaged_perceptron_tagger is already up-to-\n",
            "[nltk_data]       date!\n",
            "[nltk_data] Downloading package punkt to /root/nltk_data...\n",
            "[nltk_data]   Package punkt is already up-to-date!\n",
            "[nltk_data] Downloading package wordnet to /root/nltk_data...\n",
            "[nltk_data]   Package wordnet is already up-to-date!\n"
          ],
          "name": "stdout"
        }
      ]
    },
    {
      "cell_type": "markdown",
      "metadata": {
        "id": "zIGOPTR_EKq3",
        "colab_type": "text"
      },
      "source": [
        "# TF-IDF Vectorization"
      ]
    },
    {
      "cell_type": "code",
      "metadata": {
        "id": "iBAFG4qThfNz",
        "colab_type": "code",
        "colab": {}
      },
      "source": [
        "vectorizer = TfidfVectorizer(stop_words = punc, tokenizer = tokenize, max_features = 1000, ngram_range=(1,3), lowercase= True)\n",
        "tfdf = vectorizer.fit_transform(X)\n",
        "words = vectorizer.get_feature_names()"
      ],
      "execution_count": 0,
      "outputs": []
    },
    {
      "cell_type": "code",
      "metadata": {
        "id": "vLwtYR2siCIP",
        "colab_type": "code",
        "colab": {}
      },
      "source": [
        "from sklearn.model_selection import train_test_split\n",
        "\n",
        "X_train, X_test, y_train, y_test = train_test_split( tfdf, Y, test_size=0.2, random_state=42)"
      ],
      "execution_count": 0,
      "outputs": []
    },
    {
      "cell_type": "code",
      "metadata": {
        "id": "X2DVXyt1inqY",
        "colab_type": "code",
        "outputId": "50003583-8328-4505-b476-f3c65b5813e7",
        "colab": {
          "base_uri": "https://localhost:8080/",
          "height": 34
        }
      },
      "source": [
        "X_train.shape"
      ],
      "execution_count": 84,
      "outputs": [
        {
          "output_type": "execute_result",
          "data": {
            "text/plain": [
              "(1698, 1000)"
            ]
          },
          "metadata": {
            "tags": []
          },
          "execution_count": 84
        }
      ]
    },
    {
      "cell_type": "markdown",
      "metadata": {
        "id": "YULAVo3XES7O",
        "colab_type": "text"
      },
      "source": [
        "# Multilayer Perceptron"
      ]
    },
    {
      "cell_type": "code",
      "metadata": {
        "id": "fDSXoSv4iasD",
        "colab_type": "code",
        "outputId": "82e824cf-760d-4d61-d53f-388a3521933e",
        "colab": {
          "base_uri": "https://localhost:8080/",
          "height": 538
        }
      },
      "source": [
        "import numpy as np\n",
        "from keras.models import Sequential\n",
        "from keras.layers import Dense, Dropout\n",
        "mlp = Sequential()\n",
        "mlp.add(Dense(1000, input_dim=1000, activation='relu')) #48 columns\n",
        "mlp.add(Dropout(0.1))\n",
        "mlp.add(Dense(550, activation='relu'))\n",
        "mlp.add(Dropout(0.1))\n",
        "\n",
        "mlp.add(Dense(150, activation='relu'))\n",
        "mlp.add(Dropout(0.1))\n",
        "\n",
        "\n",
        "mlp.add(Dense(150, activation='relu'))\n",
        "mlp.add(Dropout(0.1))\n",
        "\n",
        "\n",
        "\n",
        "mlp.add(Dense(10, activation='relu'))\n",
        "mlp.add(Dropout(0.1))\n",
        "\n",
        "\n",
        "mlp.add(Dense(3, activation='softmax'))\n",
        "#best2937 hiddden 200 1\n",
        "# 82.10 500 550 500 5000 10\n",
        "# Compile model\n",
        "from keras import optimizers\n",
        "opt =optimizers.adamax(lr=0.001)\n",
        "mlp.compile(loss='categorical_crossentropy', optimizer=opt, metrics=['accuracy'])\n",
        "import time\n",
        "\n",
        "start_time = time.clock()\n",
        "\n",
        "\n",
        "# Fit the model\n",
        "mlp.fit(X_train, y_train, epochs=15, batch_size=150 )\n",
        "\n",
        "print (time.clock() - start_time, \"seconds\")\n",
        "\n"
      ],
      "execution_count": 91,
      "outputs": [
        {
          "output_type": "stream",
          "text": [
            "Epoch 1/15\n",
            "1698/1698 [==============================] - 3s 2ms/step - loss: 0.9888 - acc: 0.4953\n",
            "Epoch 2/15\n",
            "1698/1698 [==============================] - 1s 375us/step - loss: 0.8657 - acc: 0.5559\n",
            "Epoch 3/15\n",
            "1698/1698 [==============================] - 1s 390us/step - loss: 0.7831 - acc: 0.6331\n",
            "Epoch 4/15\n",
            "1698/1698 [==============================] - 1s 380us/step - loss: 0.6720 - acc: 0.7232\n",
            "Epoch 5/15\n",
            "1698/1698 [==============================] - 1s 375us/step - loss: 0.5601 - acc: 0.7756\n",
            "Epoch 6/15\n",
            "1698/1698 [==============================] - 1s 372us/step - loss: 0.4540 - acc: 0.8292\n",
            "Epoch 7/15\n",
            "1698/1698 [==============================] - 1s 372us/step - loss: 0.3734 - acc: 0.8492\n",
            "Epoch 8/15\n",
            "1698/1698 [==============================] - 1s 371us/step - loss: 0.2997 - acc: 0.8804\n",
            "Epoch 9/15\n",
            "1698/1698 [==============================] - 1s 371us/step - loss: 0.2377 - acc: 0.9028\n",
            "Epoch 10/15\n",
            "1698/1698 [==============================] - 1s 377us/step - loss: 0.2094 - acc: 0.9069\n",
            "Epoch 11/15\n",
            "1698/1698 [==============================] - 1s 377us/step - loss: 0.1810 - acc: 0.9064\n",
            "Epoch 12/15\n",
            "1698/1698 [==============================] - 1s 368us/step - loss: 0.1634 - acc: 0.9229\n",
            "Epoch 13/15\n",
            "1698/1698 [==============================] - 1s 377us/step - loss: 0.1433 - acc: 0.9364\n",
            "Epoch 14/15\n",
            "1698/1698 [==============================] - 1s 373us/step - loss: 0.1301 - acc: 0.9617\n",
            "Epoch 15/15\n",
            "1698/1698 [==============================] - 1s 374us/step - loss: 0.1215 - acc: 0.9700\n",
            "19.617953999999372 seconds\n"
          ],
          "name": "stdout"
        }
      ]
    },
    {
      "cell_type": "code",
      "metadata": {
        "id": "tbD6cp7kixrO",
        "colab_type": "code",
        "outputId": "81ec690b-ad3d-4b29-e13a-318b57466271",
        "colab": {
          "base_uri": "https://localhost:8080/",
          "height": 50
        }
      },
      "source": [
        "print(mlp.evaluate(X_test, y_test))"
      ],
      "execution_count": 92,
      "outputs": [
        {
          "output_type": "stream",
          "text": [
            "425/425 [==============================] - 1s 2ms/step\n",
            "[1.306125678875867, 0.6682352945383857]\n"
          ],
          "name": "stdout"
        }
      ]
    },
    {
      "cell_type": "markdown",
      "metadata": {
        "id": "Z0OQ6xRYzrqx",
        "colab_type": "text"
      },
      "source": [
        "# LSTM Network"
      ]
    },
    {
      "cell_type": "code",
      "metadata": {
        "id": "_CLP9SBSzqKG",
        "colab_type": "code",
        "outputId": "2340c4e6-5dc4-4ef2-dd6a-59f877c85340",
        "colab": {
          "base_uri": "https://localhost:8080/",
          "height": 101
        }
      },
      "source": [
        "from keras.models import Sequential\n",
        "from keras.layers import Dense, Dropout, Activation\n",
        "from keras.layers import Embedding\n",
        "from keras.layers import Conv1D, GlobalMaxPooling1D\n",
        "from keras.preprocessing.text import Tokenizer\n",
        "from keras.preprocessing import sequence\n",
        "from sklearn.preprocessing import LabelEncoder\n",
        "import time\n",
        "from keras import metrics\n",
        "from sklearn.model_selection import train_test_split\n",
        "\n",
        "max_fatures = 1000 #or vocab size\n",
        "tokenizer = Tokenizer(nb_words=max_fatures, split=' ', )\n",
        "tokenizer.fit_on_texts(X)\n",
        "X1 = tokenizer.texts_to_sequences(X)\n",
        "X1 = sequence.pad_sequences(X1, maxlen= max_fatures)\n",
        "#X1_texts_mat = sequence.pad_sequences(X1, maxlen=max_fatures)\n",
        "\n",
        "Y1 = (Y).values #pd.get_dummies\n",
        "X1_train, X1_test, Y1_train, Y1_test = train_test_split(X1,Y1, random_state = 42)\n",
        "print(X1_train.shape,Y1_train.shape)\n",
        "print(X1_test.shape,Y1_test.shape)\n",
        "word_index = tokenizer.word_index\n",
        "print('Found %s unique tokens.' % len(word_index))\n"
      ],
      "execution_count": 93,
      "outputs": [
        {
          "output_type": "stream",
          "text": [
            "(1592, 1000) (1592, 3)\n",
            "(531, 1000) (531, 3)\n",
            "Found 9826 unique tokens.\n"
          ],
          "name": "stdout"
        },
        {
          "output_type": "stream",
          "text": [
            "/usr/local/lib/python3.6/dist-packages/keras_preprocessing/text.py:178: UserWarning: The `nb_words` argument in `Tokenizer` has been renamed `num_words`.\n",
            "  warnings.warn('The `nb_words` argument in `Tokenizer` '\n"
          ],
          "name": "stderr"
        }
      ]
    },
    {
      "cell_type": "code",
      "metadata": {
        "id": "w9ZHKpxMy1Oq",
        "colab_type": "code",
        "outputId": "7b1ac73b-cbaa-4b87-ea0b-f91c12c4efbe",
        "colab": {
          "base_uri": "https://localhost:8080/",
          "height": 339
        }
      },
      "source": [
        "from keras.preprocessing.text import Tokenizer\n",
        "from keras.preprocessing.sequence import pad_sequences\n",
        "from keras.models import Sequential\n",
        "from keras.layers import Dense, Embedding, LSTM\n",
        "from sklearn.model_selection import train_test_split\n",
        "from keras.utils.np_utils import to_categorical\n",
        "from keras.models import Sequential\n",
        "from keras.layers import LSTM, Dense, Dropout, Masking, Embedding\n",
        "import re\n",
        "\n",
        "embed_dim = 150\n",
        "lstm_out = 500\n",
        "\n",
        "rnn = Sequential()\n",
        "rnn.add(Embedding(max_fatures, embed_dim,input_length = X1.shape[1], dropout=0.1))\n",
        "rnn.add(LSTM(64,  return_sequences = True))\n",
        "rnn.add(LSTM(64,  return_sequences = False))\n",
        "\n",
        "#model.add(LSTM(50, dropout_U=0.2,dropout_W=0.2, return_sequences = False))\n",
        "rnn.add(Dense(3,activation='softmax'))\n",
        "rnn.compile(loss = 'binary_crossentropy', optimizer='adam',metrics = ['accuracy'])\n",
        "print(rnn.summary())"
      ],
      "execution_count": 94,
      "outputs": [
        {
          "output_type": "stream",
          "text": [
            "/usr/local/lib/python3.6/dist-packages/ipykernel_launcher.py:15: UserWarning: The `dropout` argument is no longer support in `Embedding`. You can apply a `keras.layers.SpatialDropout1D` layer right after the `Embedding` layer to get the same behavior.\n",
            "  from ipykernel import kernelapp as app\n"
          ],
          "name": "stderr"
        },
        {
          "output_type": "stream",
          "text": [
            "_________________________________________________________________\n",
            "Layer (type)                 Output Shape              Param #   \n",
            "=================================================================\n",
            "embedding_5 (Embedding)      (None, 1000, 150)         150000    \n",
            "_________________________________________________________________\n",
            "lstm_7 (LSTM)                (None, 1000, 64)          55040     \n",
            "_________________________________________________________________\n",
            "lstm_8 (LSTM)                (None, 64)                33024     \n",
            "_________________________________________________________________\n",
            "dense_46 (Dense)             (None, 3)                 195       \n",
            "=================================================================\n",
            "Total params: 238,259\n",
            "Trainable params: 238,259\n",
            "Non-trainable params: 0\n",
            "_________________________________________________________________\n",
            "None\n"
          ],
          "name": "stdout"
        }
      ]
    },
    {
      "cell_type": "code",
      "metadata": {
        "id": "vVv-KcBmzcMN",
        "colab_type": "code",
        "outputId": "a8220dd7-1036-4f30-bb43-25778b44c284",
        "colab": {
          "base_uri": "https://localhost:8080/",
          "height": 370
        }
      },
      "source": [
        "import time\n",
        "\n",
        "start_time = time.clock()\n",
        "\n",
        "rnn.fit(X1_train,Y1_train,batch_size=35,epochs=10,verbose=1)\n",
        "print (time.clock() - start_time, \"seconds\")\n"
      ],
      "execution_count": 95,
      "outputs": [
        {
          "output_type": "stream",
          "text": [
            "Epoch 1/10\n",
            "1592/1592 [==============================] - 83s 52ms/step - loss: 0.5484 - acc: 0.7037\n",
            "Epoch 2/10\n",
            "1592/1592 [==============================] - 81s 51ms/step - loss: 0.4488 - acc: 0.7703\n",
            "Epoch 3/10\n",
            "1592/1592 [==============================] - 81s 51ms/step - loss: 0.3327 - acc: 0.8603\n",
            "Epoch 4/10\n",
            "1592/1592 [==============================] - 81s 51ms/step - loss: 0.2404 - acc: 0.9024\n",
            "Epoch 5/10\n",
            "1592/1592 [==============================] - 82s 51ms/step - loss: 0.1959 - acc: 0.9269\n",
            "Epoch 6/10\n",
            "1592/1592 [==============================] - 81s 51ms/step - loss: 0.1548 - acc: 0.9424\n",
            "Epoch 7/10\n",
            "1592/1592 [==============================] - 79s 50ms/step - loss: 0.1375 - acc: 0.9481\n",
            "Epoch 8/10\n",
            "1592/1592 [==============================] - 79s 50ms/step - loss: 0.1047 - acc: 0.9671\n",
            "Epoch 9/10\n",
            "1592/1592 [==============================] - 79s 50ms/step - loss: 0.0759 - acc: 0.9772\n",
            "Epoch 10/10\n",
            "1592/1592 [==============================] - 79s 50ms/step - loss: 0.0691 - acc: 0.9765\n",
            "1528.821296 seconds\n"
          ],
          "name": "stdout"
        }
      ]
    },
    {
      "cell_type": "code",
      "metadata": {
        "id": "drcg6HPN38zY",
        "colab_type": "code",
        "outputId": "34171177-bac8-4bed-fcf2-3ed8b9388c45",
        "colab": {
          "base_uri": "https://localhost:8080/",
          "height": 50
        }
      },
      "source": [
        "print(rnn.evaluate(X1_test,Y1_test))"
      ],
      "execution_count": 96,
      "outputs": [
        {
          "output_type": "stream",
          "text": [
            "531/531 [==============================] - 6s 11ms/step\n",
            "[1.0008489886919658, 0.7740113033637713]\n"
          ],
          "name": "stdout"
        }
      ]
    },
    {
      "cell_type": "markdown",
      "metadata": {
        "id": "m6FoqfYZ5CDP",
        "colab_type": "text"
      },
      "source": [
        "#Convolutional Neural Network"
      ]
    },
    {
      "cell_type": "code",
      "metadata": {
        "id": "8BjtK9lw5BFF",
        "colab_type": "code",
        "outputId": "2f49b4b3-2bea-41d9-d45b-0dfe9c9b86df",
        "colab": {
          "base_uri": "https://localhost:8080/",
          "height": 440
        }
      },
      "source": [
        "\n",
        "from keras.layers import Dense, Flatten, LSTM, Conv1D, MaxPooling1D, Dropout, Activation\n",
        "embed_dim = 150\n",
        "lstm_out = 500\n",
        "cnn = Sequential()\n",
        "cnn.add(Embedding(max_fatures, embed_dim,input_length = X1.shape[1], dropout=0.1))\n",
        "cnn.add(Conv1D(64, 5, activation='relu')) # 128 * 128 5 FILTERS i/p - 10 filters +1 = 491\n",
        "cnn.add(MaxPooling1D(pool_size=4)) # 4 LAYERS OF POOLING\n",
        "cnn.add(Conv1D(64, 2, activation='relu'))\n",
        "cnn.add(MaxPooling1D(pool_size=4))\n",
        "cnn.add(LSTM(64,  return_sequences = False))\n",
        "cnn.add(Dense(3,activation='softmax'))\n",
        "cnn.compile(loss = 'binary_crossentropy', optimizer='adam',metrics = ['accuracy'])\n",
        "print(cnn.summary()) "
      ],
      "execution_count": 97,
      "outputs": [
        {
          "output_type": "stream",
          "text": [
            "/usr/local/lib/python3.6/dist-packages/ipykernel_launcher.py:6: UserWarning: The `dropout` argument is no longer support in `Embedding`. You can apply a `keras.layers.SpatialDropout1D` layer right after the `Embedding` layer to get the same behavior.\n",
            "  \n"
          ],
          "name": "stderr"
        },
        {
          "output_type": "stream",
          "text": [
            "_________________________________________________________________\n",
            "Layer (type)                 Output Shape              Param #   \n",
            "=================================================================\n",
            "embedding_6 (Embedding)      (None, 1000, 150)         150000    \n",
            "_________________________________________________________________\n",
            "conv1d_5 (Conv1D)            (None, 996, 64)           48064     \n",
            "_________________________________________________________________\n",
            "max_pooling1d_5 (MaxPooling1 (None, 249, 64)           0         \n",
            "_________________________________________________________________\n",
            "conv1d_6 (Conv1D)            (None, 248, 64)           8256      \n",
            "_________________________________________________________________\n",
            "max_pooling1d_6 (MaxPooling1 (None, 62, 64)            0         \n",
            "_________________________________________________________________\n",
            "lstm_9 (LSTM)                (None, 64)                33024     \n",
            "_________________________________________________________________\n",
            "dense_47 (Dense)             (None, 3)                 195       \n",
            "=================================================================\n",
            "Total params: 239,539\n",
            "Trainable params: 239,539\n",
            "Non-trainable params: 0\n",
            "_________________________________________________________________\n",
            "None\n"
          ],
          "name": "stdout"
        }
      ]
    },
    {
      "cell_type": "code",
      "metadata": {
        "id": "x8JYYwPG5-tH",
        "colab_type": "code",
        "outputId": "52590adf-00fa-4d8c-fdd3-5c7d8ca830e4",
        "colab": {
          "base_uri": "https://localhost:8080/",
          "height": 370
        }
      },
      "source": [
        "import time\n",
        "\n",
        "start_time = time.clock()\n",
        "\n",
        "cnn.fit(X1_train,Y1_train,batch_size=35,epochs=10,verbose=1)\n",
        "print (time.clock() - start_time, \"seconds\")\n"
      ],
      "execution_count": 98,
      "outputs": [
        {
          "output_type": "stream",
          "text": [
            "Epoch 1/10\n",
            "1592/1592 [==============================] - 20s 13ms/step - loss: 0.5500 - acc: 0.6981\n",
            "Epoch 2/10\n",
            "1592/1592 [==============================] - 17s 11ms/step - loss: 0.4830 - acc: 0.7741\n",
            "Epoch 3/10\n",
            "1592/1592 [==============================] - 17s 11ms/step - loss: 0.3589 - acc: 0.8476\n",
            "Epoch 4/10\n",
            "1592/1592 [==============================] - 17s 11ms/step - loss: 0.2338 - acc: 0.9116\n",
            "Epoch 5/10\n",
            "1592/1592 [==============================] - 17s 11ms/step - loss: 0.1705 - acc: 0.9286\n",
            "Epoch 6/10\n",
            "1592/1592 [==============================] - 17s 11ms/step - loss: 0.1020 - acc: 0.9644\n",
            "Epoch 7/10\n",
            "1592/1592 [==============================] - 17s 11ms/step - loss: 0.0576 - acc: 0.9841\n",
            "Epoch 8/10\n",
            "1592/1592 [==============================] - 17s 10ms/step - loss: 0.0386 - acc: 0.9895\n",
            "Epoch 9/10\n",
            "1592/1592 [==============================] - 17s 10ms/step - loss: 0.0274 - acc: 0.9929\n",
            "Epoch 10/10\n",
            "1592/1592 [==============================] - 17s 11ms/step - loss: 0.0219 - acc: 0.9939\n",
            "324.94169500000044 seconds\n"
          ],
          "name": "stdout"
        }
      ]
    },
    {
      "cell_type": "code",
      "metadata": {
        "id": "EaAh697_5ozB",
        "colab_type": "code",
        "outputId": "4ab5de19-a695-4255-89d7-cb4ce90cbe97",
        "colab": {
          "base_uri": "https://localhost:8080/",
          "height": 50
        }
      },
      "source": [
        "print(cnn.evaluate(X1_test,Y1_test))\n"
      ],
      "execution_count": 99,
      "outputs": [
        {
          "output_type": "stream",
          "text": [
            "531/531 [==============================] - 2s 5ms/step\n",
            "[0.9235777946964271, 0.7903327124715974]\n"
          ],
          "name": "stdout"
        }
      ]
    },
    {
      "cell_type": "code",
      "metadata": {
        "id": "dKF1CWtjF_1P",
        "colab_type": "code",
        "colab": {
          "base_uri": "https://localhost:8080/",
          "height": 67
        },
        "outputId": "f095439c-421d-4145-b597-d0e8ada894a3"
      },
      "source": [
        "ACC_MLP =mlp.evaluate(X_test, y_test)[1]\n",
        "ACC_RNN =rnn.evaluate(X1_test,Y1_test)[1]\n",
        "ACC_CNN =cnn.evaluate(X1_test,Y1_test)[1]"
      ],
      "execution_count": 100,
      "outputs": [
        {
          "output_type": "stream",
          "text": [
            "425/425 [==============================] - 0s 189us/step\n",
            "531/531 [==============================] - 5s 9ms/step\n",
            "531/531 [==============================] - 1s 3ms/step\n"
          ],
          "name": "stdout"
        }
      ]
    },
    {
      "cell_type": "code",
      "metadata": {
        "id": "w5IorvJqFrSv",
        "colab_type": "code",
        "colab": {
          "base_uri": "https://localhost:8080/",
          "height": 312
        },
        "outputId": "84391c17-8851-4993-f1fc-1541aa635d8c"
      },
      "source": [
        "import matplotlib.pyplot as plt\n",
        "results = [ACC_MLP, ACC_RNN, ACC_CNN]\n",
        "print(results)\n",
        "df_acc = pd.DataFrame({'Algorithms':['MLP', 'RNN/LSTM', 'CNN'], 'Accuracy':[ACC_MLP, ACC_RNN, ACC_CNN]})\n",
        "ax = df_acc.plot.bar(x='Algorithms', rot=0, )\n",
        "\n",
        "ax.set_title (\"Accuracy Comparison\")\n",
        "plt.show()"
      ],
      "execution_count": 101,
      "outputs": [
        {
          "output_type": "stream",
          "text": [
            "[0.6682352945383857, 0.7740113033637713, 0.7903327124715974]\n"
          ],
          "name": "stdout"
        },
        {
          "output_type": "display_data",
          "data": {
            "image/png": "[encoded data removed]",
            "text/plain": [
              "<Figure size 432x288 with 1 Axes>"
            ]
          },
          "metadata": {
            "tags": []
          }
        }
      ]
    }
  ]
}